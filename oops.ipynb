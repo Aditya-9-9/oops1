{
  "nbformat": 4,
  "nbformat_minor": 0,
  "metadata": {
    "colab": {
      "provenance": []
    },
    "kernelspec": {
      "name": "python3",
      "display_name": "Python 3"
    },
    "language_info": {
      "name": "python"
    }
  },
  "cells": [
    {
      "cell_type": "markdown",
      "source": [
        "1. What is Object-Oriented Programming (OOP)?\n",
        " - Object-Oriented Programming (OOP) is a programming paradigm based on the concept of \"objects\", which can contain data (in the form of fields, often called attributes or properties) and code (in the form of procedures, often called methods).\n",
        "\n",
        "2. What is a class in OOP?\n",
        " - Class: A blueprint for creating objects. It defines the structure and behavior (attributes and methods) that the created objects will have.\n",
        "\n",
        "3. What is an object in OOP?\n",
        " - Object: An instance of a class. It represents a specific implementation of the class with actual values.\n",
        "\n",
        "4. What is the difference between abstraction and encapsulation?\n",
        " - Abstraction: Hiding complex implementation details and showing only the essential features of the object.\n",
        " - Encapsulation: Bundling the data and methods that operate on that data within one unit (the class), and restricting direct access to some of the object's components.\n",
        "\n",
        "5. What are dunder methods in Python?\n",
        " - Dunder methods in Python (short for \"double underscore\" methods) are special methods that start and end with double underscores (e.g., __init__, __str__, __len__). These methods are also called magic methods or special methods, and they let you define how objects of your class behave with built-in Python operations.\n",
        "\n",
        "6. Explain the concept of inheritance in OOP?\n",
        " - Inheritance: A mechanism where a new class (child or subclass) can inherit the properties and behaviors (methods) of another class (parent or superclass).\n",
        "\n",
        "7. What is polymorphism in OOP?\n",
        " - Polymorphism: The ability of different classes to respond to the same method call in different ways, typically achieved through method overriding or overloading.\n",
        "\n",
        "8. How is encapsulation achieved in Python?\n",
        " - Encapsulation in Python is achieved by restricting direct access to an object’s internal data and requiring all interaction to be performed through methods. This helps protect the internal state of an object and promotes modular, maintainable code.\n",
        "\n",
        "9. What is a constructor in Python?\n",
        " - In Python, a constructor is a special method used to initialize a newly created object of a class. It is automatically called when you create an instance of the class.\n",
        "\n",
        "10. What are class and static methods in Python?\n",
        " - Class Methods\n",
        "     - Take cls as the first parameter (refers to the class itself).\n",
        "     - Can access and modify class-level data.\n",
        "     - Often used for factory methods or to affect the class as a whole.\n",
        "  - Static Methods\n",
        "       - Don’t take self or cls as the first parameter.\n",
        "       - Cannot access or modify class or instance data.\n",
        "       - Used for utility functions related to the class but not dependent on instance/class state.\n",
        "\n",
        "11.  What is method overloading in Python?\n",
        "  - Method overloading refers to defining multiple methods in the same class with the same name but different arguments\n",
        "\n",
        "12. What is method overriding in OOP?\n",
        " - Method overriding in Object-Oriented Programming (OOP) occurs when a subclass provides a specific implementation of a method that is already defined in its parent class.\n",
        "\n",
        "13. What is a property decorator in Python?\n",
        " - In Python, the property decorator is used to define getter methods that can be accessed like attributes, allowing you to implement controlled access to instance variables while using clean, intuitive syntax.\n",
        "\n",
        "14. Why is polymorphism important in OOP?\n",
        " - Polymorphism is important in Object-Oriented Programming (OOP) because it allows objects of different classes to be treated as objects of a common superclass, enabling flexible and extensible code.\n",
        "\n",
        "15. What is an abstract class in Python?\n",
        " - An abstract class in Python is a class that cannot be instantiated directly. It serves as a blueprint for other classes and typically contains abstract methods, which are methods that are declared but contain no implementation in the abstract class. These methods must be implemented by any subclass that inherits from the abstract class.\n",
        "\n",
        "16. What are the advantages of OOP?\n",
        " - Advantages of OOP:-\n",
        "     -  Modularity and Code Reusability\n",
        "     - Easier Maintenance and Modularity\n",
        "     - Flexibility and Extensibility (Polymorphism and Inheritance)\n",
        "\n",
        "17. What is the difference between a class variable and an instance variable?\n",
        " -  Class Variable:\n",
        "     - Belongs to the class itself, not to any specific instance.\n",
        "      - Shared by all instances of the class.\n",
        "      - If a class variable is modified, the change is reflected across all instances of the class.\n",
        "     - Defined inside the class but outside any method\n",
        " - Instance Variable:\n",
        "      - Belongs to a specific instance of the class.\n",
        "      - Each instance of the class has its own copy of instance variables.\n",
        "      - Defined inside the __init__ method, typically using self to reference the instance.\n",
        "      - Can have different values for each instance.\n",
        "\n",
        "18. What is multiple inheritance in Python?\n",
        " - Multiple inheritance in Python refers to a situation where a class can inherit from more than one base class. This allows the subclass to inherit attributes and methods from multiple parent classes.\n",
        "\n",
        "19. Explain the purpose of ‘’__str__’ and ‘__repr__’ ‘ methods in Python?\n",
        " - __str__ Method:To return a human-readable or informal string representation of the object.\n",
        " - __repr__ Method:To return a string that gives a clear, unambiguous representation of the object for developers or debugging.\n",
        "\n",
        "20. What is the significance of the ‘super()’ function in Python?\n",
        " - Significance of super() in Python:\n",
        "     - Accessing Parent Class Methods\n",
        "     - Facilitates Method Overriding\n",
        "     - Supports Multiple Inheritance\n",
        "    \n",
        "21. What is the significance of the __del__ method in Python?\n",
        " - The __del__ method in Python is a special method used to define the destruction behavior of an object. It is called when an object is about to be destroyed (or garbage collected) and can be used to clean up resources that the object might have acquired during its lifetime, such as closing files, releasing network connections, or freeing up memory\n",
        "\n",
        "22. What is the difference between @staticmethod and @classmethod in Python?\n",
        " - @staticmethod: -\n",
        "     - A static method does not take the class (cls) or instance (self) as the first parameter.\n",
        "     - It is used when the method doesn't need access to class or instance attributes and operates independently of both.\n",
        "     - Typical Use Case: When you have a utility function that doesn’t need access to the class or instance\n",
        " - @classmethod:-\n",
        "     - A class method takes the class (cls) as the first parameter instead of the instance (self).\n",
        "     - Class methods can modify or access class-level attributes (variables shared by all instances of the class), but not instance-specific attributes.\n",
        "     - Typical Use Case: When you need to operate on class-level data or when you need to create alternative constructors (factory methods).\n",
        "\n",
        "23. How does polymorphism work in Python with inheritance?\n",
        " - Polymorphism in Python is achieved through method overriding, where a subclass provides a specific implementation of a method that is already defined in its superclass. The main idea is that the method's name stays the same, but its behavior can vary based on the class of the object invoking it.\n",
        "\n",
        "24. What is method chaining in Python OOP?\n",
        " - Method chaining in Python (or in object-oriented programming in general) is a technique where multiple methods are called on the same object, one after the other, in a single line of code. This is made possible by having each method return the object itself (typically self), so that the next method can be called immediately on that object.\n",
        "\n",
        "25. What is the purpose of the __call__ method in Python?\n",
        " - The purpose of the __call__ method in Python is to allow instances of a class to behave like functions. By implementing the __call__ method, you can enable an object to be \"called\" directly (using parentheses, just like a function), and we can define custom behavior when this happens.\n"
      ],
      "metadata": {
        "id": "wDysxd8KbYZo"
      }
    },
    {
      "cell_type": "code",
      "source": [
        "#Create a parent class Animal with a method speak() that prints a generic message. Create a child class Dog that overrides the speak() method to print \"Bark!\".\n",
        "class Animal:\n",
        "    def speak(self):\n",
        "        print(\"Animal makes a sound\")\n",
        "class Dog(Animal):\n",
        "    def speak(self):\n",
        "        print(\"Bark!\")\n",
        "animal = Animal()\n",
        "dog = Dog()\n",
        "animal.speak()\n",
        "dog.speak()"
      ],
      "metadata": {
        "colab": {
          "base_uri": "https://localhost:8080/"
        },
        "id": "0xMBNvWbiDdo",
        "outputId": "3c88faec-9076-42e2-b946-ccc0dc4645c2"
      },
      "execution_count": 1,
      "outputs": [
        {
          "output_type": "stream",
          "name": "stdout",
          "text": [
            "Animal makes a sound\n",
            "Bark!\n"
          ]
        }
      ]
    },
    {
      "cell_type": "code",
      "source": [
        "#Write a program to create an abstract class Shape with a method area(). Derive classes Circle and Rectangle from it and implement the area() method in both.\n",
        "from abc import ABC, abstractmethod\n",
        "import math\n",
        "class Shape(ABC):\n",
        "    @abstractmethod\n",
        "    def area(self):\n",
        "        pass\n",
        "class Circle(Shape):\n",
        "    def __init__(self, radius):\n",
        "        self.radius = radius\n",
        "    def area(self):\n",
        "        return math.pi * self.radius ** 2\n",
        "class Rectangle(Shape):\n",
        "    def __init__(self, width, height):\n",
        "        self.width = width\n",
        "        self.height = height\n",
        "    def area(self):\n",
        "        return self.width * self.height\n",
        "circle = Circle(5)\n",
        "rectangle = Rectangle(4, 6)\n",
        "print(\"Area of the Circle:\", circle.area())\n",
        "print(\"Area of the Rectangle:\", rectangle.area())\n"
      ],
      "metadata": {
        "colab": {
          "base_uri": "https://localhost:8080/"
        },
        "id": "UpUd2sUviWn1",
        "outputId": "3f838e1d-91b8-482a-880e-20109caf4ef9"
      },
      "execution_count": 5,
      "outputs": [
        {
          "output_type": "stream",
          "name": "stdout",
          "text": [
            "Area of the Circle: 78.53981633974483\n",
            "Area of the Rectangle: 24\n"
          ]
        }
      ]
    },
    {
      "cell_type": "code",
      "source": [
        "# Implement a multi-level inheritance scenario where a class Vehicle has an attribute type. Derive a class Car and further derive a class ElectricCar that adds a battery attribute.\n",
        "class Vehicle:\n",
        "    def __init__(self, type_of_vehicle):\n",
        "        self.type = type_of_vehicle\n",
        "    def display_type(self):\n",
        "        print(f\"Vehicle Type: {self.type}\")\n",
        "class Car(Vehicle):\n",
        "    def __init__(self, type_of_vehicle, make, model):\n",
        "        super().__init__(type_of_vehicle)\n",
        "        self.make = make\n",
        "        self.model = model\n",
        "    def display_car_details(self):\n",
        "        print(f\"Car Make: {self.make}\")\n",
        "        print(f\"Car Model: {self.model}\")\n",
        "class ElectricCar(Car):\n",
        "    def __init__(self, type_of_vehicle, make, model, battery_capacity):\n",
        "        super().__init__(type_of_vehicle, make, model)\n",
        "        self.battery_capacity = battery_capacity\n",
        "    def display_battery_info(self):\n",
        "        print(f\"Battery Capacity: {self.battery_capacity} kWh\")\n",
        "electric_car = ElectricCar(\"Electric\", \"Tesla\", \"Model S\", 100)\n",
        "electric_car.display_type()\n",
        "electric_car.display_car_details()\n",
        "electric_car.display_battery_info()"
      ],
      "metadata": {
        "colab": {
          "base_uri": "https://localhost:8080/"
        },
        "id": "F2I7jGgcjFmh",
        "outputId": "b479f964-91bb-420f-bb06-4ae6b443b970"
      },
      "execution_count": 6,
      "outputs": [
        {
          "output_type": "stream",
          "name": "stdout",
          "text": [
            "Vehicle Type: Electric\n",
            "Car Make: Tesla\n",
            "Car Model: Model S\n",
            "Battery Capacity: 100 kWh\n"
          ]
        }
      ]
    },
    {
      "cell_type": "code",
      "source": [
        "#Demonstrate polymorphism by creating a base class Bird with a method fly(). Create two derived classes Sparrow and Penguin that override the fly() method.\n",
        "class Bird:\n",
        "    def fly(self):\n",
        "        print(\"This bird can fly.\")\n",
        "class Sparrow(Bird):\n",
        "    def fly(self):\n",
        "        print(\"Sparrow flies in the sky.\")\n",
        "class Penguin(Bird):\n",
        "    def fly(self):\n",
        "        print(\"Penguins cannot fly, they swim.\")\n",
        "sparrow = Sparrow()\n",
        "penguin = Penguin()\n",
        "birds = [sparrow, penguin]\n",
        "for bird in birds:\n",
        "    bird.fly()"
      ],
      "metadata": {
        "colab": {
          "base_uri": "https://localhost:8080/"
        },
        "id": "8UvigYJujrPA",
        "outputId": "d36e255b-e712-4622-f1c9-247f5d5b8d58"
      },
      "execution_count": 7,
      "outputs": [
        {
          "output_type": "stream",
          "name": "stdout",
          "text": [
            "Sparrow flies in the sky.\n",
            "Penguins cannot fly, they swim.\n"
          ]
        }
      ]
    },
    {
      "cell_type": "code",
      "source": [
        "# Write a program to demonstrate encapsulation by creating a class BankAccount with private attributes balance and methods to deposit, withdraw, and check balance.\n",
        "class BankAccount:\n",
        "    def __init__(self, initial_balance=0):\n",
        "        self.__balance = initial_balance\n",
        "    def deposit(self, amount):\n",
        "        if amount > 0:\n",
        "            self.__balance += amount\n",
        "            print(f\"Deposited: ${amount}\")\n",
        "        else:\n",
        "            print(\"Deposit amount must be positive.\")\n",
        "    def withdraw(self, amount):\n",
        "        if amount > 0:\n",
        "            if amount <= self.__balance:\n",
        "                self.__balance -= amount\n",
        "                print(f\"Withdrew: ${amount}\")\n",
        "            else:\n",
        "                print(\"Insufficient balance!\")\n",
        "        else:\n",
        "            print(\"Withdrawal amount must be positive.\")\n",
        "    def check_balance(self):\n",
        "        print(f\"Current Balance: ${self.__balance}\")\n",
        "    def get_balance(self):\n",
        "        return self.__balance\n",
        "    def set_balance(self, amount):\n",
        "        if amount >= 0:\n",
        "            self.__balance = amount\n",
        "        else:\n",
        "            print(\"Balance cannot be negative.\")\n",
        "account = BankAccount(1000)\n",
        "account.check_balance()\n",
        "account.deposit(500)\n",
        "account.withdraw(200)\n",
        "account.withdraw(1500)\n",
        "account.check_balance()\n",
        "account.set_balance(2000)\n",
        "print(f\"Updated Balance using setter: ${account.get_balance()}\")"
      ],
      "metadata": {
        "colab": {
          "base_uri": "https://localhost:8080/"
        },
        "id": "GIMVvUw7kA7_",
        "outputId": "25e5a3a1-dc06-4292-a57b-fb78f2ae9bd6"
      },
      "execution_count": 8,
      "outputs": [
        {
          "output_type": "stream",
          "name": "stdout",
          "text": [
            "Current Balance: $1000\n",
            "Deposited: $500\n",
            "Withdrew: $200\n",
            "Insufficient balance!\n",
            "Current Balance: $1300\n",
            "Updated Balance using setter: $2000\n"
          ]
        }
      ]
    },
    {
      "cell_type": "code",
      "source": [
        "# Demonstrate runtime polymorphism using a method play() in a base class Instrument. Derive classes Guitar and Piano that implement their own version of play().\n",
        "class Instrument:\n",
        "    def play(self):\n",
        "        print(\"Instrument is playing a sound\")\n",
        "class Guitar(Instrument):\n",
        "    def play(self):\n",
        "        print(\"Guitar is playing a chord\")\n",
        "class Piano(Instrument):\n",
        "    def play(self):\n",
        "        print(\"Piano is playing a melody\")\n",
        "def make_instrument_play(instrument):\n",
        "    instrument.play()\n",
        "guitar = Guitar()\n",
        "piano = Piano()\n",
        "make_instrument_play(guitar)\n",
        "make_instrument_play(piano)"
      ],
      "metadata": {
        "colab": {
          "base_uri": "https://localhost:8080/"
        },
        "id": "AtqHBjbakYrh",
        "outputId": "a80d5af9-69a0-4d86-8981-8150706dc029"
      },
      "execution_count": 9,
      "outputs": [
        {
          "output_type": "stream",
          "name": "stdout",
          "text": [
            "Guitar is playing a chord\n",
            "Piano is playing a melody\n"
          ]
        }
      ]
    },
    {
      "cell_type": "code",
      "source": [
        "#Create a class MathOperations with a class method add_numbers() to add two numbers and a staticmethod subtract_numbers() to subtract two numbers.\n",
        "class MathOperations:\n",
        "    @classmethod\n",
        "    def add_numbers(cls, num1, num2):\n",
        "        return num1 + num2\n",
        "    @staticmethod\n",
        "    def subtract_numbers(num1, num2):\n",
        "        return num1 - num2\n",
        "sum_result = MathOperations.add_numbers(10, 5)\n",
        "print(f\"Sum: {sum_result}\")\n",
        "difference_result = MathOperations.subtract_numbers(10, 5)\n",
        "print(f\"Difference: {difference_result}\")"
      ],
      "metadata": {
        "colab": {
          "base_uri": "https://localhost:8080/"
        },
        "id": "9u3cwCGHkyNQ",
        "outputId": "29c47279-3d1f-4961-fc45-7b05350c88a3"
      },
      "execution_count": 10,
      "outputs": [
        {
          "output_type": "stream",
          "name": "stdout",
          "text": [
            "Sum: 15\n",
            "Difference: 5\n"
          ]
        }
      ]
    },
    {
      "cell_type": "code",
      "source": [
        "#Implement a class Person with a class method to count the total number of persons created.\n",
        "class Person:\n",
        "    total_persons = 0\n",
        "    def __init__(self, name, age):\n",
        "        self.name = name\n",
        "        self.age = age\n",
        "        Person.total_persons += 1\n",
        "    @classmethod\n",
        "    def get_total_persons(cls):\n",
        "        return cls.total_persons\n",
        "person1 = Person(\"Alice\", 30)\n",
        "person2 = Person(\"Bob\", 25)\n",
        "person3 = Person(\"Charlie\", 35)\n",
        "print(f\"Total persons created: {Person.get_total_persons()}\")"
      ],
      "metadata": {
        "colab": {
          "base_uri": "https://localhost:8080/"
        },
        "id": "OX_GlHIdlCTo",
        "outputId": "3559cbc6-f4a8-4bb8-c4bf-ce30f57070f4"
      },
      "execution_count": 11,
      "outputs": [
        {
          "output_type": "stream",
          "name": "stdout",
          "text": [
            "Total persons created: 3\n"
          ]
        }
      ]
    },
    {
      "cell_type": "code",
      "source": [
        "#Write a class Fraction with attributes numerator and denominator. Override the str method to display the fraction as \"numerator/denominator\".\n",
        "class Fraction:\n",
        "    def __init__(self, numerator, denominator):\n",
        "        self.numerator = numerator\n",
        "        self.denominator = denominator\n",
        "    def __str__(self):\n",
        "        return f\"{self.numerator}/{self.denominator}\"\n",
        "fraction1 = Fraction(3, 4)\n",
        "fraction2 = Fraction(5, 8)\n",
        "print(fraction1)\n",
        "print(fraction2)"
      ],
      "metadata": {
        "colab": {
          "base_uri": "https://localhost:8080/"
        },
        "id": "aZGNQ_uBlVo-",
        "outputId": "5024efc9-3d1b-4c45-92a0-91a77de140af"
      },
      "execution_count": 14,
      "outputs": [
        {
          "output_type": "stream",
          "name": "stdout",
          "text": [
            "3/4\n",
            "5/8\n"
          ]
        }
      ]
    },
    {
      "cell_type": "code",
      "source": [
        "#Demonstrate operator overloading by creating a class Vector and overriding the add method to add two vectors.\n",
        "class Vector:\n",
        "    def __init__(self, x, y):\n",
        "        self.x = x\n",
        "        self.y = y\n",
        "    def __add__(self, other):\n",
        "        return Vector(self.x + other.x, self.y + other.y)\n",
        "    def __str__(self):\n",
        "        return f\"({self.x}, {self.y})\"\n",
        "vector1 = Vector(2, 3)\n",
        "vector2 = Vector(4, 5)\n",
        "result_vector = vector1 + vector2\n",
        "print(f\"Result of adding vector1 and vector2: {result_vector}\")"
      ],
      "metadata": {
        "colab": {
          "base_uri": "https://localhost:8080/"
        },
        "id": "Qq0_YYh8lrPT",
        "outputId": "da5751f8-89c1-4678-9a05-ebd2c6e59de0"
      },
      "execution_count": 15,
      "outputs": [
        {
          "output_type": "stream",
          "name": "stdout",
          "text": [
            "Result of adding vector1 and vector2: (6, 8)\n"
          ]
        }
      ]
    },
    {
      "cell_type": "code",
      "source": [
        "#Create a class Person with attributes name and age. Add a method greet() that prints \"Hello, my name is {name} and I am {age} years old.\"\n",
        "class Person:\n",
        "    def __init__(self, name, age):\n",
        "        self.name = name\n",
        "        self.age = age\n",
        "\n",
        "    def greet(self):\n",
        "        print(f\"Hello, my name is {self.name} and I am {self.age} years old.\")\n",
        "person1 = Person(\"Aditya\", 20)\n",
        "person1.greet()"
      ],
      "metadata": {
        "colab": {
          "base_uri": "https://localhost:8080/"
        },
        "id": "zrMWvNjLl6rk",
        "outputId": "f7ab1d1d-de7d-4769-b8f1-27a00571b265"
      },
      "execution_count": 16,
      "outputs": [
        {
          "output_type": "stream",
          "name": "stdout",
          "text": [
            "Hello, my name is Aditya and I am 20 years old.\n"
          ]
        }
      ]
    },
    {
      "cell_type": "code",
      "source": [
        "#Implement a class Student with attributes name and grades. Create a method average_grade() to compute the average of the grades\n",
        "class Student:\n",
        "    def __init__(self, name, grades):\n",
        "        self.name = name\n",
        "        self.grades = grades\n",
        "\n",
        "    def average_grade(self):\n",
        "        if len(self.grades) == 0:\n",
        "            return 0\n",
        "        return sum(self.grades) / len(self.grades)\n",
        "student1 = Student(\"Aditya\", [85, 90, 78, 92])\n",
        "avg_grade = student1.average_grade()\n",
        "print(f\"{student1.name}'s average grade is: {avg_grade}\")"
      ],
      "metadata": {
        "colab": {
          "base_uri": "https://localhost:8080/"
        },
        "id": "V9ST2DDUmHo8",
        "outputId": "ca9b3eec-e99a-46f6-d001-2f42bb97360d"
      },
      "execution_count": 18,
      "outputs": [
        {
          "output_type": "stream",
          "name": "stdout",
          "text": [
            "Aditya's average grade is: 86.25\n"
          ]
        }
      ]
    },
    {
      "cell_type": "code",
      "source": [
        "# Create a class Rectangle with methods set_dimensions() to set the dimensions and area() to calculate the area\n",
        "class Rectangle:\n",
        "    def __init__(self):\n",
        "        self.length = 0\n",
        "        self.width = 0\n",
        "    def set_dimensions(self, length, width):\n",
        "        self.length = length\n",
        "        self.width = width\n",
        "    def area(self):\n",
        "        return self.length * self.width\n",
        "rectangle1 = Rectangle()\n",
        "rectangle1.set_dimensions(5, 3)\n",
        "area_of_rectangle = rectangle1.area()\n",
        "print(f\"The area of the rectangle is: {area_of_rectangle}\")"
      ],
      "metadata": {
        "colab": {
          "base_uri": "https://localhost:8080/"
        },
        "id": "-WfULaVHmYar",
        "outputId": "45c2012b-f27b-44b1-dd14-8a1c2e5420fd"
      },
      "execution_count": 19,
      "outputs": [
        {
          "output_type": "stream",
          "name": "stdout",
          "text": [
            "The area of the rectangle is: 15\n"
          ]
        }
      ]
    },
    {
      "cell_type": "code",
      "source": [
        "#Create a class Employee with a method calculate_salary() that computes the salary based on hours worked and hourly rate. Create a derived class Manager that adds a bonus to the salary.\n",
        "class Employee:\n",
        "    def __init__(self, name, hours_worked, hourly_rate):\n",
        "        self.name = name\n",
        "        self.hours_worked = hours_worked\n",
        "        self.hourly_rate = hourly_rate\n",
        "    def calculate_salary(self):\n",
        "        return self.hours_worked * self.hourly_rate\n",
        "class Manager(Employee):\n",
        "    def __init__(self, name, hours_worked, hourly_rate, bonus):\n",
        "        super().__init__(name, hours_worked, hourly_rate)\n",
        "        self.bonus = bonus\n",
        "    def calculate_salary(self):\n",
        "        base_salary = super().calculate_salary()\n",
        "        return base_salary + self.bonus\n",
        "employee1 = Employee(\"Aditya\", 160, 25)\n",
        "manager1 = Manager(\"Aditya1\", 160, 30, 500)\n",
        "print(f\"{employee1.name}'s salary: {employee1.calculate_salary()}\")\n",
        "print(f\"{manager1.name}'s salary: {manager1.calculate_salary()}\")\n"
      ],
      "metadata": {
        "colab": {
          "base_uri": "https://localhost:8080/"
        },
        "id": "08KX_wU-mkgQ",
        "outputId": "8382d197-cd72-42c0-804c-630664d11595"
      },
      "execution_count": 21,
      "outputs": [
        {
          "output_type": "stream",
          "name": "stdout",
          "text": [
            "Aditya's salary: 4000\n",
            "Aditya1's salary: 5300\n"
          ]
        }
      ]
    },
    {
      "cell_type": "code",
      "source": [
        "#Create a class Product with attributes name, price, and quantity. Implement a method total_price() that calculates the total price of the product.\n",
        "class Product:\n",
        "    def __init__(self, name, price, quantity):\n",
        "        self.name = name\n",
        "        self.price = price\n",
        "        self.quantity = quantity\n",
        "    def total_price(self):\n",
        "        return self.price * self.quantity\n",
        "product1 = Product(\"Laptop\", 1200, 3)\n",
        "print(f\"Total price of {product1.name}: {product1.total_price()}\")"
      ],
      "metadata": {
        "colab": {
          "base_uri": "https://localhost:8080/"
        },
        "id": "5SphdfnznEUL",
        "outputId": "638b7e19-12b9-445b-95eb-87cc4b632e21"
      },
      "execution_count": 22,
      "outputs": [
        {
          "output_type": "stream",
          "name": "stdout",
          "text": [
            "Total price of Laptop: 3600\n"
          ]
        }
      ]
    },
    {
      "cell_type": "code",
      "source": [
        "#Create a class Animal with an abstract method sound(). Create two derived classes Cow and Sheep that implement the sound() method.\n",
        "from abc import ABC, abstractmethod\n",
        "class Animal(ABC):\n",
        "    @abstractmethod\n",
        "    def sound(self):\n",
        "        pass\n",
        "class Cow(Animal):\n",
        "    def sound(self):\n",
        "        print(\"Moo!\")\n",
        "class Sheep(Animal):\n",
        "    def sound(self):\n",
        "        print(\"Baa!\")\n",
        "cow = Cow()\n",
        "sheep = Sheep()\n",
        "cow.sound()\n",
        "sheep.sound()"
      ],
      "metadata": {
        "colab": {
          "base_uri": "https://localhost:8080/"
        },
        "id": "j8x7a0oJnUNK",
        "outputId": "b205e396-01c5-4159-a6e1-d3b34a085f96"
      },
      "execution_count": 23,
      "outputs": [
        {
          "output_type": "stream",
          "name": "stdout",
          "text": [
            "Moo!\n",
            "Baa!\n"
          ]
        }
      ]
    },
    {
      "cell_type": "code",
      "source": [
        "#Create a class Book with attributes title, author, and year_published. Add a method get_book_info() that returns a formatted string with the book's details\n",
        "class Book:\n",
        "    def __init__(self, title, author, year_published):\n",
        "        self.title = title\n",
        "        self.author = author\n",
        "        self.year_published = year_published\n",
        "    def get_book_info(self):\n",
        "        return f\"'{self.title}' by {self.author}, published in {self.year_published}\"\n",
        "book1 = Book(\"1984\", \"George Orwell\", 1949)\n",
        "book_info = book1.get_book_info()\n",
        "print(book_info)"
      ],
      "metadata": {
        "colab": {
          "base_uri": "https://localhost:8080/"
        },
        "id": "ys9deJ10njhd",
        "outputId": "47440149-8f04-4138-fdc9-c54978931b4c"
      },
      "execution_count": 25,
      "outputs": [
        {
          "output_type": "stream",
          "name": "stdout",
          "text": [
            "'1984' by George Orwell, published in 1949\n"
          ]
        }
      ]
    },
    {
      "cell_type": "code",
      "source": [
        "# Create a class House with attributes address and price. Create a derived class Mansion that adds an attribute number_of_rooms.\n",
        "class House:\n",
        "    def __init__(self, address, price):\n",
        "        self.address = address\n",
        "        self.price = price\n",
        "    def get_house_info(self):\n",
        "        return f\"House located at {self.address}, priced at ${self.price}\"\n",
        "class Mansion(House):\n",
        "    def __init__(self, address, price, number_of_rooms):\n",
        "        super().__init__(address, price)\n",
        "        self.number_of_rooms = number_of_rooms\n",
        "    def get_mansion_info(self):\n",
        "        return f\"{super().get_house_info()}, with {self.number_of_rooms} rooms\"\n",
        "house1 = House(\"123 Main St\", 250000)\n",
        "mansion1 = Mansion(\"456 Luxury Ave\", 5000000, 12)\n",
        "print(house1.get_house_info())\n",
        "print(mansion1.get_mansion_info())"
      ],
      "metadata": {
        "colab": {
          "base_uri": "https://localhost:8080/"
        },
        "id": "TZ8mobBGnwvL",
        "outputId": "37fdd721-3675-44c4-b602-de33d03d4733"
      },
      "execution_count": 26,
      "outputs": [
        {
          "output_type": "stream",
          "name": "stdout",
          "text": [
            "House located at 123 Main St, priced at $250000\n",
            "House located at 456 Luxury Ave, priced at $5000000, with 12 rooms\n"
          ]
        }
      ]
    }
  ]
}